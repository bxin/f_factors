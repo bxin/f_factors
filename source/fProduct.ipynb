{
 "cells": [
  {
   "cell_type": "code",
   "execution_count": null,
   "metadata": {},
   "outputs": [],
   "source": [
    "import numpy as np"
   ]
  },
  {
   "cell_type": "code",
   "execution_count": null,
   "metadata": {},
   "outputs": [],
   "source": [
    "fF = 0.99\n",
    "fS = 1.01\n",
    "fO = 1.33\n",
    "\n",
    "fP = fF * fS * fO\n",
    "print('fF = %.2f'% fF)\n",
    "print('fO = %.2f'% fO)\n",
    "print('fS = %.2f'% fS)\n",
    "print('fProduct = %.2f'% fP)"
   ]
  },
  {
   "cell_type": "code",
   "execution_count": null,
   "metadata": {},
   "outputs": [],
   "source": [
    "# science margin between SRD design spec and minimum spec\n",
    "# IMPORTANT: from Zeljko (email on 5/7/2018) \n",
    "# there is an assumption in the SRD that we cannot relax *all* the requirements\n",
    "# from their design to minimum levels (the purpose of min. requirements is to \n",
    "# show at what level we get in big trouble with a *single parameter failure*).\n",
    "\n",
    "m5SRD = np.array([23.9, 25.0, 24.7, 24.0, 23.3, 22.1])\n",
    "m5SRDmin = np.array([23.4, 24.6, 24.3, 23.6, 22.9, 21.7])\n",
    "# Nv1 from SRD table 24\n",
    "Nv1 = np.array([56, 80, 184, 184, 160, 160])\n",
    "omega = Nv1/sum(Nv1)\n",
    "fMargin = sum(omega*10**(0.8*(m5SRD - m5SRDmin)))\n",
    "print('Current estimate: fS = %.2f'%fMargin)"
   ]
  },
  {
   "cell_type": "code",
   "execution_count": null,
   "metadata": {},
   "outputs": [],
   "source": []
  }
 ],
 "metadata": {
  "kernelspec": {
   "display_name": "Python 3",
   "language": "python",
   "name": "python3"
  },
  "language_info": {
   "codemirror_mode": {
    "name": "ipython",
    "version": 3
   },
   "file_extension": ".py",
   "mimetype": "text/x-python",
   "name": "python",
   "nbconvert_exporter": "python",
   "pygments_lexer": "ipython3",
   "version": "3.7.2"
  }
 },
 "nbformat": 4,
 "nbformat_minor": 2
}
