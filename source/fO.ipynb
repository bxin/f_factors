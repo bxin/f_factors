{
 "cells": [
  {
   "cell_type": "code",
   "execution_count": null,
   "metadata": {},
   "outputs": [],
   "source": [
    "#\n",
    "#Lynne's email on Mar 13, 2018\n",
    "# fO metrics are part of MAF :\n",
    "# https://github.com/lsst/sims_maf/blob/master/python/lsst/sims/maf/batches/srdBatch.py\n",
    "# For the newest to-be-submitted baseline run, the values are at \n",
    "# http://astro-lsst-01.astro.washington.edu:8081/allMetricResults?runId=18\n",
    "# and for minion_1016 the values are at\n",
    "# http://astro-lsst-01.astro.washington.edu:8081/allMetricResults?runId=34\n",
    "\n",
    "# Bo:\n",
    "# fO - MAF metric results using minion_1016 shows [area with Nvisit>825]/18000 deg^2 = 1.00.\n",
    "# On the other hand, [minimum Nvisit within 18000 deg^2]/825 = 1.08. Here I assume the 1.00 should be used since \n",
    "# it is more preferable to maximize sky area than Nvisit. If we take the latest to-be-submitted run, \n",
    "# the values are 1.00 and 1.01 respectively, which are really no different."
   ]
  },
  {
   "cell_type": "code",
   "execution_count": null,
   "metadata": {},
   "outputs": [],
   "source": [
    "# the 0th order calculation Bo has been showing at summer 2018 reviews:\n",
    "FOV = 9.6\n",
    "coverage = 18000\n",
    "nCover = 825\n",
    "nFOV = coverage/FOV\n",
    "nVisit = nFOV*nCover\n",
    "nVisitOpSim = 2.37e6\n",
    "nWDF = 2.05e6\n",
    "print('WDF percentage = %.0f %%'%(nWDF/nVisitOpSim*100))\n",
    "fO = nWDF/nVisit\n",
    "print('Current estimate: fO = %.2f'%fO)"
   ]
  },
  {
   "cell_type": "code",
   "execution_count": null,
   "metadata": {},
   "outputs": [],
   "source": []
  }
 ],
 "metadata": {
  "kernelspec": {
   "display_name": "Python 3",
   "language": "python",
   "name": "python3"
  },
  "language_info": {
   "codemirror_mode": {
    "name": "ipython",
    "version": 3
   },
   "file_extension": ".py",
   "mimetype": "text/x-python",
   "name": "python",
   "nbconvert_exporter": "python",
   "pygments_lexer": "ipython3",
   "version": "3.7.2"
  }
 },
 "nbformat": 4,
 "nbformat_minor": 2
}
