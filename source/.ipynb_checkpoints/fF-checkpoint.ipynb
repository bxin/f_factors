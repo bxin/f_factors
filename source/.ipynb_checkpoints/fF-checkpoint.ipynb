{
 "cells": [
  {
   "cell_type": "markdown",
   "metadata": {},
   "source": [
    "# Calculation of Fill Factor fF"
   ]
  },
  {
   "cell_type": "code",
   "execution_count": null,
   "metadata": {},
   "outputs": [],
   "source": [
    "#\n",
    "#Lynne's email on Mar 13, 2018\n",
    "# fF is in a jupyter notebook at https://github.com/testMOPS/mops/blob/master/FillFactor.ipynb\n",
    "#(also here -  https://github.com/rhiannonlynne/notebooks/blob/master/FillFactor.ipynb -- with some rotational dither \n",
    "# analysis, but the first one is probably clearer)\n",
    "# Nothing has changed with the camera layout since these were run, but the code underlying the notebooks has so \n",
    "# they may not actually run without updates.\n",
    "\n",
    "# Bo reran the second notebook that Lynne sent (the one with rotational dither) and \n",
    "# got the mean fill factor to be 0.91.\n",
    "# Lynne used 0.90 in https://arxiv.org/pdf/1711.10621.pdf"
   ]
  },
  {
   "cell_type": "code",
   "execution_count": null,
   "metadata": {},
   "outputs": [],
   "source": [
    "import numpy as np"
   ]
  },
  {
   "cell_type": "code",
   "execution_count": null,
   "metadata": {},
   "outputs": [],
   "source": [
    "# the 0th order calculation Bo has been showing at summer 2018 reviews:\n",
    "#With the 13/8 e2V vs. ITL raft distribution, \n",
    "nITL = 8\n",
    "nE2V = 13\n",
    "nPixITL = 4072 * 4000 \n",
    "nPixE2V = 4096 * 4004\n",
    "pixSize = 0.2**2/3600**2\n",
    "FOV = 9.6\n",
    "fF = (9*nITL*nPixITL + 9*nE2V*nPixE2V) * pixSize / FOV\n",
    "print('Current estimate: fF = %.2f'%fF)\n"
   ]
  },
  {
   "cell_type": "code",
   "execution_count": null,
   "metadata": {},
   "outputs": [],
   "source": []
  }
 ],
 "metadata": {
  "kernelspec": {
   "display_name": "Python 3",
   "language": "python",
   "name": "python3"
  },
  "language_info": {
   "codemirror_mode": {
    "name": "ipython",
    "version": 3
   },
   "file_extension": ".py",
   "mimetype": "text/x-python",
   "name": "python",
   "nbconvert_exporter": "python",
   "pygments_lexer": "ipython3",
   "version": "3.7.2"
  }
 },
 "nbformat": 4,
 "nbformat_minor": 1
}
