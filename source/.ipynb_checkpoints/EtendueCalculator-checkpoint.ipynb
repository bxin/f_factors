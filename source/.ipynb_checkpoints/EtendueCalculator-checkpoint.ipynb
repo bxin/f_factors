{
 "cells": [
  {
   "cell_type": "code",
   "execution_count": null,
   "metadata": {},
   "outputs": [],
   "source": [
    "import numpy as np\n",
    "import pandas as pd\n",
    "import matplotlib.pyplot as plt\n",
    "\n",
    "%matplotlib inline\n",
    "\n",
    "M1R = 8.406 #hardcoded in Chuck's Excel file\n",
    "#M1R = 8.36 #clear aperture as in Optical design v3.3"
   ]
  },
  {
   "cell_type": "code",
   "execution_count": null,
   "metadata": {},
   "outputs": [],
   "source": [
    "ExcelFromChuck = '../documentation/EtendueCalculator.xls'\n",
    "df = pd.read_excel(ExcelFromChuck, sheet_name='Sheet1',skiprows=3)  "
   ]
  },
  {
   "cell_type": "code",
   "execution_count": null,
   "metadata": {},
   "outputs": [],
   "source": [
    "df.keys()"
   ]
  },
  {
   "cell_type": "code",
   "execution_count": null,
   "metadata": {},
   "outputs": [],
   "source": [
    "#these are all the data we need as input\n",
    "innerR = np.float64(df['Field Annulus Inner Radius'][1:])\n",
    "outerR = np.float64(df['Field Annulus Outer Radius'][1:])\n",
    "vigR = np.float64(df['Optical Throughput (from Zemax Vigneting Analysis)'][1:])\n",
    "\n",
    "#get rid of the zeros and NaNs\n",
    "idx = ~np.isnan(innerR)\n",
    "innerR = innerR[idx]\n",
    "outerR = outerR[idx]\n",
    "outerVig = vigR[idx]\n",
    "innerVig = np.hstack([outerVig[0], outerVig[:-1]])\n",
    "\n",
    "aveR = (innerR+outerR)/2\n",
    "aveV = (innerVig + outerVig)/2"
   ]
  },
  {
   "cell_type": "code",
   "execution_count": null,
   "metadata": {},
   "outputs": [],
   "source": [
    "fig1 = plt.figure(figsize=(8, 6))\n",
    "plt.plot(aveR, aveV)\n",
    "plt.grid()\n",
    "plt.xlabel('Field Radius (deg)')\n",
    "plt.ylabel('Vignetting Ratio')"
   ]
  },
  {
   "cell_type": "code",
   "execution_count": null,
   "metadata": {},
   "outputs": [],
   "source": [
    "#effective collecting area at center radius of annulus\n",
    "dA = np.pi*(M1R/2)**2*aveV   #m^2\n",
    "dFOV = np.pi*(outerR**2 - innerR**2)\n",
    "etendue = sum(dA*dFOV)\n",
    "print('Etendue = %.1f m^2 deg^2 (R<%.2f deg)' %(etendue, outerR[-1]) )"
   ]
  },
  {
   "cell_type": "code",
   "execution_count": null,
   "metadata": {},
   "outputs": [],
   "source": [
    "fig2, ax = plt.subplots(1,2, figsize=(15, 6))\n",
    "ax[0].plot(aveR, dFOV)\n",
    "ax[0].grid()\n",
    "ax[0].set_xlabel('Field Radius (deg)')\n",
    "ax[0].set_ylabel('FOV in each annulus (deg^2)')\n",
    "ax[1].plot(aveR, dA)\n",
    "ax[1].grid()\n",
    "ax[1].set_xlabel('Field Radius (deg)')\n",
    "ax[1].set_ylabel('Collecting Area (m^2)')"
   ]
  },
  {
   "cell_type": "code",
   "execution_count": null,
   "metadata": {},
   "outputs": [],
   "source": [
    "mask0 = outerR<1.75\n",
    "etendue0 = sum(dA[mask0]*dFOV[mask0])\n",
    "mask1 = innerR<1.75\n",
    "etendue1 = sum(dA[mask1]*dFOV[mask1])\n",
    "etendue = (etendue0 + etendue1)/2\n",
    "print('Etendue = %.1f m^2 deg^2 (R<%.2f deg)' %(etendue0, 1.74) )\n",
    "print('Etendue = %.1f m^2 deg^2 (R<%.2f deg)' %(etendue1, 1.76) )\n",
    "print('Etendue = %.1f m^2 deg^2 (R<%.2f deg)' %(etendue, 1.75) )"
   ]
  },
  {
   "cell_type": "code",
   "execution_count": null,
   "metadata": {},
   "outputs": [],
   "source": [
    "FOV = sum(dFOV[mask1])\n",
    "print('total FOV within 1.76 deg = %.3f deg^2' % FOV)\n",
    "print('weighted average of collecting area = %.1f m^2'% (etendue1/FOV))\n",
    "print('weighted average of effective aperture D = %.3f m\\n' % (2* np.sqrt(etendue1/FOV/np.pi)))\n",
    "#if we use FOV = 9.6 deg^2\n",
    "FOV = 9.6  #(sum(dFOV[mask0]) + sum(dFOV[mask1]))/2\n",
    "print('total FOV within 1.75 deg = %.3f deg^2' % FOV)\n",
    "print('weighted average of collecting area = %.1f m^2'% (etendue/FOV))\n",
    "print('weighted average of effective aperture D = %.3f m' % (2* np.sqrt(etendue/FOV/np.pi)))"
   ]
  },
  {
   "cell_type": "code",
   "execution_count": null,
   "metadata": {},
   "outputs": [],
   "source": []
  }
 ],
 "metadata": {
  "kernelspec": {
   "display_name": "Python 3",
   "language": "python",
   "name": "python3"
  },
  "language_info": {
   "codemirror_mode": {
    "name": "ipython",
    "version": 3
   },
   "file_extension": ".py",
   "mimetype": "text/x-python",
   "name": "python",
   "nbconvert_exporter": "python",
   "pygments_lexer": "ipython3",
   "version": "3.7.2"
  }
 },
 "nbformat": 4,
 "nbformat_minor": 2
}
