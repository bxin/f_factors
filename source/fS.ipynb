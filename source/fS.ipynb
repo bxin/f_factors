{
 "cells": [
  {
   "cell_type": "code",
   "execution_count": null,
   "metadata": {},
   "outputs": [],
   "source": [
    "#\n",
    "#Lynne's email on Mar 13, 2018\n",
    "# The \"old\" table2 is available online at https://github.com/lsst-pst/syseng_throughputs/blob/master/plots/table2\n",
    "# and the \"new\" table2 awaiting approval (for the updates in the QE curves to match measured values) is at \n",
    "# https://github.com/lsst-pst/syseng_throughputs/blob/update-12-19-2017/plots/table2\n",
    "\n",
    "# Bo:\n",
    "# fS - Using the band weights from SRD Table 24 (I understand it is for illustration only),\n",
    "# with the \"old\" m5 values, I get fS = 0.94\n",
    "# Assuming the new throughput curves have been approved (?), I get fS = 1.01."
   ]
  },
  {
   "cell_type": "code",
   "execution_count": null,
   "metadata": {},
   "outputs": [],
   "source": [
    "import numpy as np"
   ]
  },
  {
   "cell_type": "code",
   "execution_count": null,
   "metadata": {},
   "outputs": [],
   "source": [
    "# the 0th order calculation Bo has been showing at summer 2018 reviews:\n",
    "m5SRD = np.array([23.9, 25.0, 24.7, 24.0, 23.3, 22.1])\n",
    "#m5SRDmin = []\n",
    "m5 = np.array([23.78, 24.81, 24.35, 23.92, 23.34, 22.45])\n",
    "# Nv1 from SRD table 24\n",
    "Nv1 = np.array([56, 80, 184, 184, 160, 160])\n",
    "omega = Nv1/sum(Nv1)\n",
    "fS = sum(omega*10**(0.8*(m5 - m5SRD)))\n",
    "print('Current estimate: fS = %.2f'%fS)"
   ]
  },
  {
   "cell_type": "code",
   "execution_count": null,
   "metadata": {},
   "outputs": [],
   "source": []
  }
 ],
 "metadata": {
  "kernelspec": {
   "display_name": "Python 3",
   "language": "python",
   "name": "python3"
  },
  "language_info": {
   "codemirror_mode": {
    "name": "ipython",
    "version": 3
   },
   "file_extension": ".py",
   "mimetype": "text/x-python",
   "name": "python",
   "nbconvert_exporter": "python",
   "pygments_lexer": "ipython3",
   "version": "3.7.2"
  }
 },
 "nbformat": 4,
 "nbformat_minor": 2
}
