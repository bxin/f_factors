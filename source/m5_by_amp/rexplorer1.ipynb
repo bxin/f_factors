{
 "cells": [
  {
   "cell_type": "markdown",
   "metadata": {},
   "source": [
    "## This notebook is used for examining camera QE, read noise, full well and gain, by amplifier\n",
    "This is based on Steve Ritz's notebook\n",
    "https://github.com/smr456/raftexplorer/blob/master/rexplorer.ipynb"
   ]
  },
  {
   "cell_type": "code",
   "execution_count": null,
   "metadata": {},
   "outputs": [],
   "source": [
    "import os\n",
    "import glob\n",
    "import numpy as np\n",
    "import matplotlib.pyplot as plt\n",
    "from astropy.io import fits\n",
    "import scipy as sc\n",
    "import textwrap\n",
    "import pickle\n",
    "from scipy.interpolate import CubicSpline\n",
    "from shutil import copy\n",
    "import pandas as pd\n",
    "\n",
    "%matplotlib inline"
   ]
  },
  {
   "cell_type": "code",
   "execution_count": null,
   "metadata": {},
   "outputs": [],
   "source": [
    "#Based on camera confluence page:\n",
    "# https://confluence.slac.stanford.edu/display/LSSTCAM/Raft+Delivery+and+Acceptance+Testing+Status\n",
    "\n",
    "#bay, run, order, vendor = 'R01 10861 5 ITL'.split()  #order 5, right after the 4 corner rafts\n",
    "#bay, run, order, vendor = 'R11 10669 6 e2v'.split() #order 6, \n",
    "#bay, run, order, vendor = 'R10 10517 7 ITL'.split() #used by Simon as path finder raft, 36 measurements per curve\n",
    "#bay, run, order, vendor = 'R20 10928 8 ITL'.split() #order 8,\n",
    "#bay, run, order, vendor = 'R30 11063 9 e2v'.split()\n",
    "#bay, run, order, vendor = 'R21 10722 10 e2v'.split()\n",
    "#bay, run, order, vendor = 'R22 11351 11 e2v'.split() #order 11,\n",
    "#bay, run, order, vendor = 'R12 11415 12 e2v'.split() \n",
    "#bay, run, order, vendor = 'R02 10982 13 ITL'.split() \n",
    "#bay, run, order, vendor = 'R31 11903 14 e2v'.split() \n",
    "#bay, run, order, vendor = 'R03 11166 15 ITL'.split() \n",
    "#bay, run, order, vendor = 'R34 12027 16 e2v'.split() #confluence page is wrong about slot. R34 according to Richard's tool\n",
    "#bay, run, order, vendor = 'R13 11808 17 e2v'.split() \n",
    "#bay, run, order, vendor = 'R23 11852 18 e2v'.split() \n",
    "#bay, run, order, vendor = 'R14 11746 19 e2v'.split() \n",
    "#bay, run, order, vendor, dataset = 'R32 12002 20 e2v 2'.split() \n",
    "#bay, run, order, vendor = 'R24 11952 21 e2v'.split() \n",
    "#bay, run, order, vendor = 'R41 12086 22 ITL'.split() \n",
    "#bay, run, order, vendor = 'R42 12120 23 ITL'.split() #Richard's notebook has 12130\n",
    "#bay, run, order, vendor = 'R33 12139 24 e2v'.split() \n",
    "bay, run, order, vendor, dataset = 'R43 11671 25 ITL 1'.split() "
   ]
  },
  {
   "cell_type": "code",
   "execution_count": null,
   "metadata": {},
   "outputs": [],
   "source": [
    "if dataset==1:\n",
    "    srcDir = '/home/bxin/notebooks/raftexplorer/'\n",
    "else:\n",
    "    srcDir = '/home/bxin/notebooks/raftResults2020jan/'\n",
    "    \n",
    "filename='RaftRun'+str(run)+'.p'\n",
    "pkpath = os.path.join(srcDir,filename)\n",
    "\n",
    "f=open(pkpath,'rb')\n",
    "raft_name=pickle.load(f)\n",
    "res=pickle.load(f)\n",
    "ccd_list=pickle.load(f)\n",
    "file_list=pickle.load(f)\n",
    "fw=pickle.load(f)\n",
    "gains=pickle.load(f)\n",
    "#print(fw)\n",
    "f.close()"
   ]
  },
  {
   "cell_type": "code",
   "execution_count": null,
   "metadata": {},
   "outputs": [],
   "source": [
    "raft_name"
   ]
  },
  {
   "cell_type": "code",
   "execution_count": null,
   "metadata": {},
   "outputs": [],
   "source": [
    "ccd_list"
   ]
  },
  {
   "cell_type": "code",
   "execution_count": null,
   "metadata": {},
   "outputs": [],
   "source": [
    "print(ccd_list[0][0][:3], vendor)\n",
    "assert ccd_list[0][0][:3] == vendor.upper()"
   ]
  },
  {
   "cell_type": "code",
   "execution_count": null,
   "metadata": {},
   "outputs": [],
   "source": [
    "if (ccd_list[0][0][0:3]=='ITL'):\n",
    "    imark='^'\n",
    "    rcolor='b'\n",
    "else:\n",
    "    imark='o'\n",
    "    rcolor='r'\n",
    "cmap = { 0:'r',1:'g',2:'b',3:'c',4:'m',5:'y',6:'k',7:'gray',8:'orange',9:'darkslateblue',10:'coral',11:'darkblue',12:'darkred'}"
   ]
  },
  {
   "cell_type": "code",
   "execution_count": null,
   "metadata": {},
   "outputs": [],
   "source": [
    "# define figure size parameters to make figures larger than default\n",
    "figwidth=10\n",
    "figheight=10\n",
    "\n",
    "qesimple=np.zeros((100,17,9)) #iamp = 0 is not used\n",
    "\n",
    "fig1=plt.figure(1,[figwidth,figheight])\n",
    "plt.subplot(211)\n",
    "plt.title('QE by AMP and Average '+raft_name[raft_name.index(\"RTM\"):]+' Run '+run + ' Bay '+bay)\n",
    "plt.ylabel('QE')\n",
    "ax=fig1.gca()\n",
    "ax.grid(True)\n",
    "ax.set_xticks(np.arange(300, 1150, 50.))\n",
    "ax.set_yticks(np.arange(0, 110., 5.))\n",
    "    \n",
    "for i in range (0,9):\n",
    "    filename=str(ccd_list[i][0]+'_QE.fits')\n",
    "    filepath = os.path.join(srcDir,run, filename)\n",
    "    print(filename)\n",
    "    try:\n",
    "        hdulist=fits.open(filepath)\n",
    "        qedata=hdulist[1].data # 1 contains the qe curves, 2 contains the band qe. See hdulist.info()\n",
    "    except FileNotFoundError:\n",
    "        print('FileNotFoundError: {} '.format(filename))\n",
    "        continue\n",
    "\n",
    "    wavelength=qedata['WAVELENGTH']\n",
    "    for iamp in range (1,17):\n",
    "        if (iamp<10):\n",
    "            samp='AMP0'+str(iamp)\n",
    "        else:\n",
    "            samp='AMP'+str(iamp) \n",
    "        \n",
    "        qedata[samp][np.where(np.isnan(qedata[samp]))] = 0\n",
    "        if np.max(qedata[samp])>150:\n",
    "            print('These seem too LARGE ', ccd_list[i][1], ' Amp= ', iamp)\n",
    "            print(qedata[samp])\n",
    "            qedata[samp][np.where(qedata[samp]>100)] = 0\n",
    "        qesimple[:qedata[samp].shape[0],iamp,i]=qedata[samp]\n",
    "        if iamp == 1:\n",
    "            plt.scatter(wavelength,qedata[samp],10,cmap[i],imark, label='%s %s'%(ccd_list[i][1], filename))\n",
    "        else:\n",
    "            plt.scatter(wavelength,qedata[samp],10,cmap[i],imark)\n",
    "plt.legend()\n",
    "\n",
    "pltDir = os.path.join('cam_plots', bay)\n",
    "if not os.path.exists(pltDir):\n",
    "    os.mkdir(pltDir)\n",
    "pngPath = os.path.join(pltDir, 'QE_%s.png'%bay)\n",
    "plt.savefig(pngPath)"
   ]
  },
  {
   "cell_type": "code",
   "execution_count": null,
   "metadata": {},
   "outputs": [],
   "source": [
    "# there are more compact ways to take the mean of the non-zero segments, but this is clearest\n",
    "qeraft=np.zeros(len(wavelength))\n",
    "nseg=0\n",
    "for iccd in range(0,9):\n",
    "    nseg+=np.count_nonzero(qesimple[0,1:17,iccd])\n",
    "    print(\"for ccd \",iccd,\" number of nonzero segments is\", np.count_nonzero(qesimple[0,1:17,iccd]))\n",
    "    for iwave in range(0,len(wavelength)):\n",
    "        for iamp in range (1,17):\n",
    "            qeraft[iwave]+=qesimple[iwave,iamp,iccd]"
   ]
  },
  {
   "cell_type": "code",
   "execution_count": null,
   "metadata": {},
   "outputs": [],
   "source": [
    "lambda1=np.arange(321,1100,1)           \n",
    "print('nseg = {}'.format(nseg))\n",
    "print('Number of data points in QE measurements = %d'%qeraft.shape[0])\n",
    "print(qeraft)\n",
    "qeraft=qeraft/nseg\n",
    "qe=CubicSpline(wavelength, qeraft)\n",
    "qecurve=qe(lambda1)\n",
    "plt.plot(lambda1, qecurve,rcolor,linewidth=6,label='average',alpha=0.2)\n",
    "plt.show()"
   ]
  },
  {
   "cell_type": "code",
   "execution_count": null,
   "metadata": {},
   "outputs": [],
   "source": [
    "# now plot the noise\n",
    "fig2=plt.figure(2,[figwidth,figheight])\n",
    "plt.subplot(211)\n",
    "plt.title('noise by AMP for '+raft_name[raft_name.index(\"RTM\"):])\n",
    "plt.ylabel('noise (rms)')\n",
    "ax=fig2.gca()\n",
    "ax.grid(True)\n",
    "ax.set_xticks(np.arange(0, 16, 1.))\n",
    "ax.set_yticks(np.arange(0, 50., 2.))\n",
    "ax.set_ylim([0.,40.])\n",
    "iseg=np.arange(0,16,1)\n",
    "icol=0\n",
    "for ccd, noise in res.items(): \n",
    "    #print(ccd)\n",
    "    #print(noise)\n",
    "    plt.scatter(iseg,noise,40,cmap[icol],imark,label=ccd)\n",
    "    icol+=1\n",
    "plt.legend(loc='upper left',prop={'size':9})\n",
    "\n",
    "pngPath = os.path.join(pltDir, 'RN_%s.png'%bay)\n",
    "plt.savefig(pngPath)"
   ]
  },
  {
   "cell_type": "code",
   "execution_count": null,
   "metadata": {},
   "outputs": [],
   "source": [
    "fig3=plt.figure(3,[figwidth,figheight])\n",
    "plt.subplot(211)\n",
    "plt.title('full_well by AMP for '+raft_name[raft_name.index(\"RTM\"):])\n",
    "plt.ylabel('full_well(e)')\n",
    "ax=fig3.gca()\n",
    "ax.grid(True)\n",
    "ax.set_xticks(np.arange(0, 16, 1.))\n",
    "#ax.set_yticks(np.arange(0, 50., 2.))\n",
    "ax.set_ylim([0.,250000.])\n",
    "iseg=np.arange(0,16,1)\n",
    "icol=0\n",
    "for ccd, fullwell in fw.items(): \n",
    "    if not np.all(np.array(fullwell)>0):\n",
    "        print(fullwell)\n",
    "    plt.scatter(iseg,fullwell,40,cmap[icol],imark,label=ccd)\n",
    "    icol+=1\n",
    "plt.legend(loc='lower left',prop={'size':9})\n",
    "    \n",
    "pngPath = os.path.join(pltDir, 'FW_%s.png'%bay)\n",
    "plt.savefig(pngPath)    "
   ]
  },
  {
   "cell_type": "code",
   "execution_count": null,
   "metadata": {},
   "outputs": [],
   "source": [
    "fullwell[1]=-1\n",
    "np.all(np.array(fullwell)>0)"
   ]
  },
  {
   "cell_type": "code",
   "execution_count": null,
   "metadata": {},
   "outputs": [],
   "source": [
    "fig4=plt.figure(4,[figwidth,figheight])\n",
    "plt.subplot(211)\n",
    "plt.title('gain by AMP for '+raft_name[raft_name.index(\"RTM\"):])\n",
    "plt.ylabel('gain(e/ADU)')\n",
    "ax=fig4.gca()\n",
    "ax.grid(True)\n",
    "ax.set_xticks(np.arange(0, 16, 1.))\n",
    "#ax.set_yticks(np.arange(0, 50., 2.))\n",
    "ax.set_ylim([0.,3.])\n",
    "iseg=np.arange(0,16,1)\n",
    "icol=0\n",
    "for ccd, gain in gains.items(): \n",
    "    plt.scatter(iseg,gain,40,cmap[icol],imark,label=ccd)\n",
    "    icol+=1\n",
    "plt.legend(loc='upper left',prop={'size':9})\n",
    "\n",
    "pngPath = os.path.join(pltDir, 'gain_%s.png'%bay)\n",
    "plt.savefig(pngPath)"
   ]
  },
  {
   "cell_type": "markdown",
   "metadata": {},
   "source": [
    "### If everything looks fine, write this raft to the installation record"
   ]
  },
  {
   "cell_type": "code",
   "execution_count": null,
   "metadata": {},
   "outputs": [],
   "source": [
    "raftInstallFile = 'raftInstall.csv'\n",
    "dd = pd.read_csv(raftInstallFile, index_col=0)\n",
    "dd.loc[bay, 'rtm'] = raft_name[-7:]\n",
    "dd.loc[bay, 'order'] = order\n",
    "dd.loc[bay, 'vendor'] = vendor\n",
    "dd.loc[bay, 'run'] = run\n",
    "dd.to_csv(raftInstallFile)"
   ]
  },
  {
   "cell_type": "code",
   "execution_count": null,
   "metadata": {},
   "outputs": [],
   "source": [
    "destDir = '/project/shared/bxin/cam_as_built/%s/'%(bay)\n",
    "if not os.path.exists(destDir):\n",
    "    os.mkdir(destDir)\n",
    "\n",
    "filename='RaftRun'+str(run)+'.p'    \n",
    "if not os.path.isfile('{}/{}'.format(destDir, filename)):\n",
    "    print('coping %s to %s'%(pkpath, destDir))\n",
    "    copy(pkpath, destDir)\n",
    "\n",
    "for i in range (0,9):\n",
    "    filename=str(ccd_list[i][0]+'_QE.fits')\n",
    "    filepath = os.path.join(srcDir,run,filename)\n",
    "    #print(filename)\n",
    "\n",
    "    if not os.path.isfile('{}/{}'.format(destDir, filename)):\n",
    "        print('coping %s to %s'%(filepath, destDir))\n",
    "        copy(filepath, destDir)"
   ]
  },
  {
   "cell_type": "code",
   "execution_count": null,
   "metadata": {},
   "outputs": [],
   "source": []
  }
 ],
 "metadata": {
  "kernelspec": {
   "display_name": "LSST",
   "language": "python",
   "name": "lsst"
  },
  "language_info": {
   "codemirror_mode": {
    "name": "ipython",
    "version": 3
   },
   "file_extension": ".py",
   "mimetype": "text/x-python",
   "name": "python",
   "nbconvert_exporter": "python",
   "pygments_lexer": "ipython3",
   "version": "3.7.8"
  }
 },
 "nbformat": 4,
 "nbformat_minor": 4
}
