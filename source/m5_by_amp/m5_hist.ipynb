{
 "cells": [
  {
   "cell_type": "code",
   "execution_count": null,
   "metadata": {},
   "outputs": [],
   "source": [
    "import os\n",
    "import pandas as pd\n",
    "from ast import literal_eval\n",
    "import matplotlib.pyplot as plt\n",
    "import numpy as np\n",
    "\n",
    "%matplotlib inline\n",
    "plt.jet()"
   ]
  },
  {
   "cell_type": "code",
   "execution_count": null,
   "metadata": {},
   "outputs": [],
   "source": [
    "from lsst.obs.lsst.lsstCamMapper import LsstCamMapper\n",
    "mapper = LsstCamMapper()\n",
    "cam = mapper.camera"
   ]
  },
  {
   "cell_type": "code",
   "execution_count": null,
   "metadata": {},
   "outputs": [],
   "source": [
    "rnames = []\n",
    "dnames = []\n",
    "for det in cam:\n",
    "    rname, dname = det.getName().split('_')\n",
    "    if not rname in rnames:\n",
    "        if not rname in [\"R00\", \"R04\", \"R40\", \"R44\"]:\n",
    "            if not len(rname)>3:\n",
    "                rnames.append(rname)\n",
    "    if not dname in dnames:\n",
    "        if \"SG\" in dname or \"SW\" in dname:   # ignore CR\n",
    "            continue\n",
    "        dnames.append(dname)\n",
    "print('%d science rafts found'%len(rnames))\n",
    "print('each rafts has %d CCDs'%len(dnames))"
   ]
  },
  {
   "cell_type": "code",
   "execution_count": null,
   "metadata": {},
   "outputs": [],
   "source": [
    "def get_m5all(f, nraft=21):\n",
    "    '''\n",
    "    f is filter, can be u,g,r,i,z,y\n",
    "    '''\n",
    "    m5all = []\n",
    "    procCList = ('R32', 'R03', 'R11', 'R21')\n",
    "    for rname in rnames:\n",
    "        if nraft == 17 and rname in procCList:\n",
    "            continue\n",
    "        m5dfFile = 'm5_output/%s/m5df_%s.csv'%(rname,rname)\n",
    "        if os.path.isfile(m5dfFile):\n",
    "            #print('found data for raft %s'%rname)\n",
    "            df = pd.read_csv(m5dfFile, index_col=0, dtype=object)\n",
    "            for dname in dnames:\n",
    "                key = rname+'_'+dname\n",
    "                res = df[key].apply(literal_eval)[f]\n",
    "                for res1 in res:\n",
    "                    m5all.append(res1)\n",
    "    #print('%s band, found %.0f rafts'%(f, len(m5all)/16/9))\n",
    "    while -1 in m5all:\n",
    "        #get rid of the dead channels, we account for them in fF.\n",
    "        m5all.remove(-1)\n",
    "    #print(sum([1 if ele<0 else 0 for ele in m5all]))\n",
    "    return m5all"
   ]
  },
  {
   "cell_type": "code",
   "execution_count": null,
   "metadata": {},
   "outputs": [],
   "source": [
    "m5design = np.array([23.9, 25.0, 24.7, 24.0, 23.3, 22.1]) #SRD Table 6\n",
    "m5min = np.array([23.4, 24.6, 24.3, 23.6, 22.9, 21.7])\n",
    "m52019 = np.array([23.74, 24.82, 24.37, 23.94, 23.36, 22.45])\n",
    "m52020 = np.array([24.113, 24.917, 24.441, 23.986, 23.395, 22.467])"
   ]
  },
  {
   "cell_type": "markdown",
   "metadata": {},
   "source": [
    "#### Note: the SRD *median* in Tables 5 and 6 refers to median condition, not median over the devices. Since we are using fiducial atmosphere, this is already the median condition. Averaging over the devices is good enough for this purpose (by Zeljko), even though it doesn't project anything onto the time axis.\n",
    "Table 7 is about variation over devices."
   ]
  },
  {
   "cell_type": "code",
   "execution_count": null,
   "metadata": {},
   "outputs": [],
   "source": [
    "filterlist = ('u', 'g', 'r', 'i', 'z', 'y')\n",
    "fig, ax = plt.subplots(2,3,figsize=(20,5*2))\n",
    "ave = []\n",
    "\n",
    "for i,f in enumerate(filterlist):\n",
    "    irow = np.int8(i/3)\n",
    "    icol = np.mod(i,3)\n",
    "    m5 = np.array(get_m5all(f))\n",
    "    #m5 = np.array(get_m5all(f, 17))\n",
    "    mm5 = np.mean(m5)\n",
    "    #break\n",
    "    binlow = m5design[i]-0.8\n",
    "    binhigh = binlow+2.5\n",
    "    bins = np.linspace(binlow, binhigh,50)\n",
    "    ax[irow][icol].hist(m5, bins, fill=False, linewidth=3)\n",
    "    (y1, y2) = (ax[irow][icol].get_ylim())\n",
    "    ax[irow][icol].plot([m5design[i], m5design[i]],[y2, y2*1.1],linestyle = '--', color='g', label='SRD design') #linewidth=5\n",
    "    ax[irow][icol].plot([m5min[i], m5min[i]],[y2, y2*1.1],linestyle = '--', color='r', label='SRD minimum') #linewidth=5, \n",
    "    ax[irow][icol].plot(m52020[i], y2*1.05, 'ro', label='Summer 2020')\n",
    "    ax[irow][icol].plot(mm5, y2*1.1, 'b*', label='Current average')\n",
    "    ax[irow][icol].text(0.85, 0.48, f, color = 'black', transform=ax[irow][icol].transAxes, fontsize=15)\n",
    "    ax[irow][icol].text(0.67, 0.28, '  design = %.1f\\n       min = %.1f\\naverage = %.1f'%(m5design[i], m5min[i], mm5), \n",
    "                        color = 'black', transform=ax[irow][icol].transAxes, fontsize=13)\n",
    "    ax[irow][icol].legend(fontsize=13, loc = 'upper right')\n",
    "    \n",
    "    #SRD Table 7.\n",
    "    mm5 = np.log10(np.mean(10**(0.8*(m5))))/0.8\n",
    "    print(f)\n",
    "    print('%.0f%% brighter than average-0.2 mag'%(sum(m5<mm5-0.2)/m5.shape[0]*100 ))\n",
    "    print('%.0f%% brighter than average-0.4 mag'%(sum(m5<mm5-0.4)/m5.shape[0]*100 ))\n",
    "    ave.append(mm5)\n",
    "print(', '.join(f'{i:6.3f}' for i in m52020)) #old\n",
    "print(', '.join(f'{i:6.3f}' for i in ave)) #new\n",
    "print(', '.join(f'{i:6.3f}' for i in (ave-m52020))) #diff"
   ]
  },
  {
   "cell_type": "markdown",
   "metadata": {},
   "source": [
    "With regard to SRD Table 5, we are failing the design spec, but meets the minimum easily"
   ]
  },
  {
   "cell_type": "code",
   "execution_count": null,
   "metadata": {},
   "outputs": [],
   "source": [
    "a=np.array(m5)"
   ]
  },
  {
   "cell_type": "code",
   "execution_count": null,
   "metadata": {},
   "outputs": [],
   "source": [
    "plt.plot(a)"
   ]
  },
  {
   "cell_type": "code",
   "execution_count": null,
   "metadata": {},
   "outputs": [],
   "source": [
    "dfPath = os.path.join('m5_output', 'm5_master_db.csv')\n",
    "mdf = pd.read_csv(dfPath, index_col=0)"
   ]
  },
  {
   "cell_type": "code",
   "execution_count": null,
   "metadata": {},
   "outputs": [],
   "source": [
    "fig, ax = plt.subplots(2,3, figsize=(20,10))\n",
    "for i,f in enumerate(filterlist):\n",
    "    irow = np.int8(i/3)\n",
    "    icol = np.mod(i,3)\n",
    "    #print(f)\n",
    "    ax[irow][icol].hist2d(mdf['fieldR(deg)'], mdf['m5_%s'%f], range=[[0,2],[21, 26]], bins=100, cmin=1)\n",
    "    #ax[irow][icol].scatter(mdf['fieldR(deg)'], mdf['m5_%s'%f])\n",
    "    ax[irow][icol].set_ylim([21,26])\n",
    "    ax[irow][icol].plot([0,2],[m5design[i], m5design[i]], linewidth=2, color='g', label='SRD design = %.1f'%m5design[i])\n",
    "    ax[irow][icol].plot([0,2],[m5min[i], m5min[i]], linewidth=2, color='r', label='SRD minimum = %.1f'%m5min[i])\n",
    "    ax[irow][icol].plot([0,2],[m52019[i], m52019[i]], linewidth=2, color='b', label='Summer 2019 = %.1f'%m52019[i])\n",
    "    ax[irow][icol].plot([0,2],[mm5, mm5], linewidth=2, color='y', label='Current average = %.1f'%mm5)\n",
    "    ax[irow][icol].text(0.25, 0.88, f, color = 'black', transform=ax[irow][icol].transAxes, fontsize=15)\n",
    "    if i<3:\n",
    "        ax[irow][icol].legend(fontsize=13, loc='lower left')\n",
    "    else:\n",
    "        ax[irow][icol].legend(fontsize=13)\n"
   ]
  },
  {
   "cell_type": "code",
   "execution_count": null,
   "metadata": {},
   "outputs": [],
   "source": []
  }
 ],
 "metadata": {
  "kernelspec": {
   "display_name": "LSST",
   "language": "python",
   "name": "lsst"
  },
  "language_info": {
   "codemirror_mode": {
    "name": "ipython",
    "version": 3
   },
   "file_extension": ".py",
   "mimetype": "text/x-python",
   "name": "python",
   "nbconvert_exporter": "python",
   "pygments_lexer": "ipython3",
   "version": "3.8.6"
  }
 },
 "nbformat": 4,
 "nbformat_minor": 4
}
