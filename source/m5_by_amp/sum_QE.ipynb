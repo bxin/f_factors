{
 "cells": [
  {
   "cell_type": "markdown",
   "metadata": {},
   "source": [
    "### This notebook checks the QE curves as they are in obs_lsst_data repo"
   ]
  },
  {
   "cell_type": "code",
   "execution_count": 1,
   "metadata": {},
   "outputs": [
    {
     "name": "stdout",
     "output_type": "stream",
     "text": [
      "lsst_distrib          20.0.0+7   \tcurrent w_2020_27 setup\n"
     ]
    }
   ],
   "source": [
    "# make sure this is w_2019_49 or later\n",
    "! eups list | grep lsst_distrib "
   ]
  },
  {
   "cell_type": "code",
   "execution_count": 12,
   "metadata": {},
   "outputs": [],
   "source": [
    "import matplotlib.pyplot as plt\n",
    "from lsst.daf.persistence import Butler, NoResults\n",
    "import os, numpy\n",
    "import pandas as pd\n",
    "from astropy import units as u\n",
    "from scipy.interpolate import interp1d\n",
    "import numpy as np"
   ]
  },
  {
   "cell_type": "code",
   "execution_count": 3,
   "metadata": {},
   "outputs": [],
   "source": [
    "import lsst.syseng.throughputs as st\n",
    "from lsst.geom import Point2D, Point2I\n",
    "from lsst.afw.cameraGeom import FIELD_ANGLE, PIXELS\n",
    "from lsst.obs.lsst.lsstCamMapper import LsstCamMapper"
   ]
  },
  {
   "cell_type": "code",
   "execution_count": 4,
   "metadata": {},
   "outputs": [
    {
     "name": "stdout",
     "output_type": "stream",
     "text": [
      "/home/bxin/lsst_stack/obs_lsst/lsstcam/CALIB\n"
     ]
    }
   ],
   "source": [
    "#DATADIR = f\"{os.environ['OBS_LSST_DIR']}/ts8/CALIB\"\n",
    "DATADIR = f\"{os.environ['OBS_LSST_DIR']}/lsstcam/CALIB\" #we can use this after DM-22605 gets merged\n",
    "print(DATADIR)\n",
    "butler = Butler(DATADIR)\n",
    "cam = butler.get('camera')"
   ]
  },
  {
   "cell_type": "markdown",
   "metadata": {},
   "source": [
    "### Retrieve the vendor design curve (e2v or ITL)"
   ]
  },
  {
   "cell_type": "code",
   "execution_count": 7,
   "metadata": {},
   "outputs": [],
   "source": [
    "defaultDirs = st.setDefaultDirs()\n",
    "addLosses = False \n",
    "detectorE2V = st.buildDetector(defaultDirs['detector']+'/../e2v', addLosses)\n",
    "detectorITL = st.buildDetector(defaultDirs['detector']+'/../itl', addLosses)"
   ]
  },
  {
   "cell_type": "code",
   "execution_count": 74,
   "metadata": {},
   "outputs": [],
   "source": [
    "#includeProcC = True\n",
    "includeProcC = False #default is false, because we know if measured those rafts fully, we should get them more like the others\n",
    "procCList = ('R32', 'R03', 'R11', 'R21')"
   ]
  },
  {
   "cell_type": "code",
   "execution_count": 75,
   "metadata": {},
   "outputs": [
    {
     "name": "stdout",
     "output_type": "stream",
     "text": [
      "dead channel: R01_S01 C00, max sb = 0.11\n",
      "dead channel: R10_S00 C00, max sb = 0.00\n",
      "dead channel: R30_S00 C10, max sb = 0.00\n",
      "No results found for this detector R00_SG0\n",
      "No results found for this detector R00_SG1\n",
      "No results found for this detector R00_SW0\n",
      "No results found for this detector R00_SW1\n",
      "No results found for this detector R04_SG0\n",
      "No results found for this detector R04_SG1\n",
      "No results found for this detector R04_SW0\n",
      "No results found for this detector R04_SW1\n",
      "No results found for this detector R40_SG0\n",
      "No results found for this detector R40_SG1\n",
      "No results found for this detector R40_SW0\n",
      "No results found for this detector R40_SW1\n",
      "No results found for this detector R44_SG0\n",
      "No results found for this detector R44_SG1\n",
      "No results found for this detector R44_SW0\n",
      "No results found for this detector R44_SW1\n"
     ]
    }
   ],
   "source": [
    "qeE2V = []\n",
    "qeITL = []\n",
    "for det in cam:\n",
    "    rname, dname = det.getName().split('_')\n",
    "    if (not includeProcC) and (rname in procCList):\n",
    "        continue\n",
    "    vendor = det.getSerial()[:3].lower()\n",
    "    if vendor == 'e2v':\n",
    "        sb0 = detectorE2V.sb\n",
    "        wl0 = detectorE2V.wavelen\n",
    "    elif vendor == 'itl':\n",
    "        sb0 = detectorITL.sb\n",
    "        wl0 = detectorITL.wavelen        \n",
    "\n",
    "    # for interpolating proctol C data (see comp_QE_curve.ipynb for more details)\n",
    "    idx = np.where(sb0>0.01)\n",
    "    idx1=idx[0][0]-1\n",
    "    idx2=idx[0][-1]+1\n",
    "\n",
    "    x1 = wl0[idx1]\n",
    "    y1 = sb0[idx1]\n",
    "    x2 = wl0[idx2]\n",
    "    y2 = sb0[idx2]\n",
    "    \n",
    "    try:\n",
    "        #qe_curve = butler.get('qe_curve', raftName=rtmname, detectorName=dname, taiObs='2000-01-01T00:00:00')\n",
    "        #qe_curve = butler.get('qe_curve', raftName=rname, detectorName=dname, taiObs='2000-01-01T00:00:00') #DM-22605 gets merged\n",
    "        qe_curve = butler.get('qe_curve', raftName=rname, detectorName=dname, calibDate='1970-01-01T00:00:00') \n",
    "    except NoResults:\n",
    "        print('No results found for this detector', det.getName())\n",
    "        continue  # \n",
    "    for k in qe_curve.data:\n",
    "        if len(qe_curve.data[k][0])>10:\n",
    "            wlen = qe_curve.data[k][0]\n",
    "            eff = qe_curve.data[k][1]\n",
    "            f = interp1d(wlen.value, eff.value, fill_value=0, bounds_error=False, kind='quadratic')\n",
    "        else:\n",
    "            aa = np.append(x1, qe_curve.data[k][0].value)\n",
    "            aa = np.append(aa, x2)\n",
    "            wlen = aa * qe_curve.data[k][0].unit\n",
    "\n",
    "            aa = np.append(y1, qe_curve.data[k][1].value)\n",
    "            aa = np.append(aa, y2)\n",
    "            eff = aa * qe_curve.data[k][1].unit\n",
    "            f = interp1d(wlen.value, eff.value, fill_value=0, bounds_error=False, kind='slinear')#quadratic causes overshoot\n",
    "        sb = f(wl0)*0.01\n",
    "        #alternatively we could do (only for >10 QE measurements)\n",
    "        #amp_point = amp.getBBox().getCenter()\n",
    "        #sb = qe_curve.evaluate(det, amp_point, wavelen* u.nm, kind='quadratic').value*.01 #unit was percent in CALIB data\n",
    "            \n",
    "        sb[np.isnan(sb)] = 0\n",
    "        if np.max(sb)>1.5:\n",
    "            print('These seem too LARGE ', k)\n",
    "            print(np.max(sb))\n",
    "            sb = 0\n",
    "        if np.max(sb)<0.2: #3 dead channels, 1 out of each of R01, R10, and R30; see camera confluence page table\n",
    "            print('dead channel: %s %s, max sb = %.2f'%(det.getName(), k, np.max(sb)))\n",
    "            continue;\n",
    "        if vendor == 'e2v':\n",
    "            qeE2V.append(sb)\n",
    "        elif vendor == 'itl':\n",
    "            qeITL.append(sb)"
   ]
  },
  {
   "cell_type": "code",
   "execution_count": 76,
   "metadata": {},
   "outputs": [],
   "source": [
    "qeITL = np.array(qeITL)\n",
    "qeE2V = np.array(qeE2V)\n",
    "qeITL[qeITL==0] = np.nan\n",
    "qeE2V[qeE2V==0] = np.nan"
   ]
  },
  {
   "cell_type": "code",
   "execution_count": 77,
   "metadata": {},
   "outputs": [
    {
     "name": "stdout",
     "output_type": "stream",
     "text": [
      "(1006, 8501) (1439, 8501) 2445 3024 2448\n"
     ]
    }
   ],
   "source": [
    "print(qeITL.shape, qeE2V.shape, qeITL.shape[0]+qeE2V.shape[0], 16*9*21, 16*9*(21-4))"
   ]
  },
  {
   "cell_type": "code",
   "execution_count": 78,
   "metadata": {},
   "outputs": [],
   "source": [
    "itlmean = np.mean(qeITL, axis=0)\n",
    "itlstd = np.std(qeITL, axis=0)\n",
    "e2vmean = np.mean(qeE2V, axis=0)\n",
    "e2vstd = np.std(qeE2V, axis=0)"
   ]
  },
  {
   "cell_type": "code",
   "execution_count": 79,
   "metadata": {},
   "outputs": [
    {
     "data": {
      "image/png": "[encoded data removed]",
      "text/plain": [
       "<Figure size 432x288 with 1 Axes>"
      ]
     },
     "metadata": {
      "needs_background": "light"
     },
     "output_type": "display_data"
    }
   ],
   "source": [
    "fig, ax = plt.subplots()\n",
    "plt.plot(wl0, itlmean)\n",
    "plt.fill_between(wl0, itlmean-itlstd, itlmean+itlstd, alpha=0.5, label='ITL')\n",
    "plt.plot(wl0, e2vmean)\n",
    "plt.fill_between(wl0, e2vmean-e2vstd, e2vmean+e2vstd, alpha=0.5, label='E2V')\n",
    "plt.legend()\n",
    "plt.xlabel('Wavelength (nm)', fontsize=12)\n",
    "plt.ylabel('Sensor QE', fontsize=12)\n",
    "plt.grid()\n",
    "plt.savefig('dm_plots/sum_QE.pdf')\n",
    "#plt.savefig('dm_plots/sum_QE_21rafts.pdf')"
   ]
  },
  {
   "cell_type": "code",
   "execution_count": null,
   "metadata": {},
   "outputs": [],
   "source": []
  }
 ],
 "metadata": {
  "kernelspec": {
   "display_name": "LSST",
   "language": "python",
   "name": "lsst"
  },
  "language_info": {
   "codemirror_mode": {
    "name": "ipython",
    "version": 3
   },
   "file_extension": ".py",
   "mimetype": "text/x-python",
   "name": "python",
   "nbconvert_exporter": "python",
   "pygments_lexer": "ipython3",
   "version": "3.7.6"
  }
 },
 "nbformat": 4,
 "nbformat_minor": 4
}
