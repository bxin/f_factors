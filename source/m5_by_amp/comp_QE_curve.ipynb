{
 "cells": [
  {
   "cell_type": "markdown",
   "metadata": {},
   "source": [
    "### This notebook checks the QE curves as they are in obs_lsst_data repo\n",
    "\n",
    "This is a modified version of the notebook by Simon Krughoff\n",
    "https://github.com/lsst-sitcom/notebooks/blob/master/contrib/get_QE_curve.ipynb\n",
    "\n",
    "Simon's notebook looks at all the QE curves that are in the ts8/CALIB. \n",
    "Here we specify a raft name (e.g. R22), then only plot the 9 CCDs for that raft.\n",
    "\n",
    "Other added features:\n",
    "* compare to the design curve in syseng_throughput, and \n",
    "* plot the raw data points so that we can examine the interpolation/extrapolation. \n",
    " - We don't want to make the plots too busy so we only show raw data points averaged over the amps."
   ]
  },
  {
   "cell_type": "code",
   "execution_count": null,
   "metadata": {},
   "outputs": [],
   "source": [
    "# make sure this is w_2019_49 or later\n",
    "! eups list | grep lsst_distrib "
   ]
  },
  {
   "cell_type": "code",
   "execution_count": null,
   "metadata": {},
   "outputs": [],
   "source": [
    "from bokeh.plotting import figure, show\n",
    "from bokeh.layouts import gridplot\n",
    "from bokeh.io import output_notebook, export_png\n",
    "output_notebook()\n",
    "\n",
    "from lsst.daf.persistence import Butler, NoResults\n",
    "import os, numpy\n",
    "import pandas as pd\n",
    "from astropy import units as u\n",
    "from scipy.interpolate import interp1d"
   ]
  },
  {
   "cell_type": "code",
   "execution_count": null,
   "metadata": {},
   "outputs": [],
   "source": [
    "import lsst.syseng.throughputs as st\n",
    "from lsst.geom import Point2D, Point2I\n",
    "from lsst.afw.cameraGeom import FIELD_ANGLE, PIXELS\n",
    "from lsst.obs.lsst.lsstCamMapper import LsstCamMapper"
   ]
  },
  {
   "cell_type": "code",
   "execution_count": null,
   "metadata": {},
   "outputs": [],
   "source": [
    "#rname = 'R10'\n",
    "#rname = 'R22'\n",
    "#rname = 'R01'\n",
    "#rname = 'R11'\n",
    "#rname = 'R20'\n",
    "#rname = 'R21'\n",
    "#rname = 'R30'\n",
    "#rname = 'R12'\n",
    "#rname = 'R02'\n",
    "#rname = 'R31'\n",
    "#rname = 'R03'\n",
    "#rname = 'R34'\n",
    "#rname = 'R13'\n",
    "#rname = 'R23'\n",
    "#rname = 'R14'\n",
    "rname = 'R32'\n",
    "#rname = 'R24'\n",
    "#rname = 'R41'\n",
    "#rname = 'R42'\n",
    "#rname = 'R33'\n",
    "#rname = 'R43'"
   ]
  },
  {
   "cell_type": "code",
   "execution_count": null,
   "metadata": {},
   "outputs": [],
   "source": [
    "#DATADIR = f\"{os.environ['OBS_LSST_DIR']}/ts8/CALIB\"\n",
    "DATADIR = f\"{os.environ['OBS_LSST_DIR']}/lsstcam/CALIB\" #we can use this after DM-22605 gets merged\n",
    "print(DATADIR)\n",
    "butler = Butler(DATADIR)\n",
    "cam = butler.get('camera')"
   ]
  },
  {
   "cell_type": "code",
   "execution_count": null,
   "metadata": {},
   "outputs": [],
   "source": [
    "# mapping based on \n",
    "#https://confluence.slac.stanford.edu/pages/viewpage.action?spaceKey=LSSTCAM&title=Raft+Delivery+and+Acceptance+Testing+Status\n",
    "dd = pd.read_csv('raftInstall.csv',index_col=0)\n",
    "rtmname = dd.rtm.loc[rname]\n",
    "vendor = dd.vendor[rname]\n",
    "print(rname, rtmname,vendor)"
   ]
  },
  {
   "cell_type": "markdown",
   "metadata": {},
   "source": [
    "### Retrieve the vendor design curve (e2v or ITL)"
   ]
  },
  {
   "cell_type": "code",
   "execution_count": null,
   "metadata": {},
   "outputs": [],
   "source": [
    "defaultDirs = st.setDefaultDirs()\n",
    "vendorDir = defaultDirs['detector']+'/../'+vendor.lower()\n",
    "addLosses = False \n",
    "detector = st.buildDetector(vendorDir, addLosses)"
   ]
  },
  {
   "cell_type": "markdown",
   "metadata": {},
   "source": [
    "#### if there are only 6 measurements, we will have to interpolate beyond [min, max] \n",
    "The way this is done in syseng_throughput is to set fill_value = 0. This looks OK when we have >30 measurements.\n",
    "For the 6-point curves, if we do that, the interpolated curve will be artificially low at the high end and low end.\n",
    "We could compile all the other curves from other rafts but the same vendor, average them, then fit to the 6 points.\n",
    "But that makes it too complicated. Merlin and Robert actually think these data are not and will not be useful. Why bother?\n",
    "#### Instead, the simplest solution, is to get the two points where the vendor design curve goes down to zero, add those two points to our 6 points."
   ]
  },
  {
   "cell_type": "code",
   "execution_count": null,
   "metadata": {},
   "outputs": [],
   "source": [
    "import numpy as np\n",
    "idx = np.where(detector.sb>0.01)\n",
    "idx1=idx[0][0]-1\n",
    "idx2=idx[0][-1]+1\n",
    "\n",
    "x1 = detector.wavelen[idx1]\n",
    "y1 = detector.sb[idx1]\n",
    "x2 = detector.wavelen[idx2]\n",
    "y2 = detector.sb[idx2]"
   ]
  },
  {
   "cell_type": "code",
   "execution_count": null,
   "metadata": {},
   "outputs": [],
   "source": [
    "def make_subplot(plot, n):\n",
    "\n",
    "    interp_list = []\n",
    "    interp_wlen = detector.wavelen * u.nm\n",
    "    for k in qe_curve.data:\n",
    "        if len(qe_curve.data[k][0])>10:\n",
    "            wlen = qe_curve.data[k][0]\n",
    "            eff = qe_curve.data[k][1]\n",
    "            \n",
    "        else:\n",
    "            aa = np.append(x1, qe_curve.data[k][0].value)\n",
    "            aa = np.append(aa, x2)\n",
    "            wlen = aa * qe_curve.data[k][0].unit\n",
    "\n",
    "            aa = np.append(y1, qe_curve.data[k][1].value)\n",
    "            aa = np.append(aa, y2)\n",
    "            eff = aa * qe_curve.data[k][1].unit\n",
    "            \n",
    "        #print(np.max(eff))\n",
    "        if np.max(eff.value)>150:\n",
    "            print('These seem too LARGE ', k)\n",
    "            print(eff)\n",
    "            eff[np.where(eff.value>100)] = 0\n",
    "            \n",
    "        if len(qe_curve.data[k][0])>10:\n",
    "            f = interp1d(wlen.value, eff.value, fill_value=0, bounds_error=False, kind='quadratic')\n",
    "        else:\n",
    "            f = interp1d(wlen.value, eff.value, fill_value=0, bounds_error=False, kind='slinear')#quadratic causes overshoot\n",
    "            \n",
    "        eff[np.isnan(eff)] = 0\n",
    "        plot.circle(wlen.value, eff.value, line_color='black', line_width=3, legend_label='Amp data')\n",
    "        \n",
    "        interp_eff = f(interp_wlen.value)*eff.unit\n",
    "        #alternatively we could do (only for >10 QE measurements)\n",
    "        #amp_point = det[k].getBBox().getCenter()\n",
    "        #interp_eff = qe_curve.evaluate(det, amp_point, interp_wlen, kind='quadratic')\n",
    "        \n",
    "        interp_list.append(interp_eff)\n",
    "        \n",
    "    interp_arr = numpy.array([arr for arr in interp_list])\n",
    "    median_eff = numpy.median(interp_arr, axis=0)\n",
    "    #print(interp_arr)\n",
    "    #print(median_eff)\n",
    "    plot.line(interp_wlen, median_eff, color='black', line_width=2, legend_label = 'Amp median')\n",
    "    plot.line(detector.wavelen, detector.sb*100, color='red', line_width=2, legend_label = '%s design'%vendor)\n",
    "    plot.legend.location = \"center\"\n",
    "    plot.legend.click_policy=\"hide\"\n",
    "    \n",
    "    if n > 6:\n",
    "        plot.xaxis.axis_label = 'wavelength (nm)'\n",
    "        \n",
    "    if n in (1, 4, 7):\n",
    "        plot.yaxis.axis_label = 'efficiency (%)'\n",
    "        \n",
    "    #plot.text(x=[320,], y=[20,], text=[f'{det.getName().replace(rtmname, rname)}',])\n",
    "    plot.text(x=[320,], y=[20,], text=[f'{det.getName()}',]) #use this line after DM-22605 gets merged\n",
    "    plot.text(x=[320,], y=[10,], text=[f'{rtmname}',])"
   ]
  },
  {
   "cell_type": "code",
   "execution_count": null,
   "metadata": {},
   "outputs": [],
   "source": [
    "plots = []\n",
    "for det in cam:\n",
    "    rname1, dname = det.getName().split('_')\n",
    "    #if rname1 != rtmname:\n",
    "    if rname1 != rname: #use this line after DM-22605 gets merged\n",
    "        continue;\n",
    "\n",
    "    try:\n",
    "        #qe_curve = butler.get('qe_curve', raftName=rtmname, detectorName=dname, taiObs='2000-01-01T00:00:00')\n",
    "        #qe_curve = butler.get('qe_curve', raftName=rname, detectorName=dname, taiObs='2000-01-01T00:00:00') #DM-22605 gets merged\n",
    "        qe_curve = butler.get('qe_curve', raftName=rname, detectorName=dname, calibDate='1970-01-01T00:00:00') \n",
    "    except NoResults:\n",
    "        print('No results found for this detector', det.getName())\n",
    "        continue  # \n",
    "\n",
    "    if len(plots) > 0:\n",
    "        plots.append(figure(x_range=plots[0].x_range, y_range=plots[0].y_range))\n",
    "    else:\n",
    "        plots.append(figure())\n",
    "    print(rname1, rname)\n",
    "    make_subplot(plots[-1], len(plots))"
   ]
  },
  {
   "cell_type": "code",
   "execution_count": null,
   "metadata": {},
   "outputs": [],
   "source": [
    "grid = gridplot(plots, ncols=3, plot_width=350, plot_height=200)\n",
    "show(grid)"
   ]
  },
  {
   "cell_type": "code",
   "execution_count": null,
   "metadata": {},
   "outputs": [],
   "source": [
    "pltDir = os.path.join('dm_plots', rname)\n",
    "if not os.path.exists(pltDir):\n",
    "    os.mkdir(pltDir)\n",
    "pngPath = os.path.join(pltDir, 'QE_%s.png'%rname)\n",
    "export_png(grid, filename=pngPath)"
   ]
  },
  {
   "cell_type": "code",
   "execution_count": null,
   "metadata": {},
   "outputs": [],
   "source": [
    "from lsst.obs.lsst.ts8 import Ts8Mapper\n",
    "cam = Ts8Mapper().camera"
   ]
  },
  {
   "cell_type": "code",
   "execution_count": null,
   "metadata": {},
   "outputs": [],
   "source": [
    "cam['RTM-024_S01'].getSerial()"
   ]
  },
  {
   "cell_type": "code",
   "execution_count": null,
   "metadata": {},
   "outputs": [],
   "source": [
    "cam['RTM-009_S00']"
   ]
  },
  {
   "cell_type": "code",
   "execution_count": null,
   "metadata": {},
   "outputs": [],
   "source": []
  }
 ],
 "metadata": {
  "kernelspec": {
   "display_name": "LSST",
   "language": "python",
   "name": "lsst"
  },
  "language_info": {
   "codemirror_mode": {
    "name": "ipython",
    "version": 3
   },
   "file_extension": ".py",
   "mimetype": "text/x-python",
   "name": "python",
   "nbconvert_exporter": "python",
   "pygments_lexer": "ipython3",
   "version": "3.7.8"
  }
 },
 "nbformat": 4,
 "nbformat_minor": 4
}
