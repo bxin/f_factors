{
 "cells": [
  {
   "cell_type": "code",
   "execution_count": 1,
   "metadata": {},
   "outputs": [],
   "source": [
    "import os\n",
    "import glob\n",
    "import numpy as np\n",
    "import matplotlib.pyplot as plt\n",
    "from astropy.io import fits\n",
    "import scipy as sc\n",
    "import textwrap\n",
    "import pickle\n",
    "from scipy.interpolate import CubicSpline\n",
    "from shutil import copy\n",
    "import pandas as pd\n",
    "\n",
    "%matplotlib inline"
   ]
  },
  {
   "cell_type": "code",
   "execution_count": 2,
   "metadata": {},
   "outputs": [],
   "source": [
    "bay, run, order, vendor, dataset = 'R32 12002 20 e2v 2'.split() "
   ]
  },
  {
   "cell_type": "code",
   "execution_count": 3,
   "metadata": {},
   "outputs": [],
   "source": [
    "if dataset==1:\n",
    "    srcDir = '/home/bxin/notebooks/raftexplorer/'\n",
    "else:\n",
    "    srcDir = '/home/bxin/notebooks/raftResults2020jan/'\n",
    "    \n",
    "filename='RaftRun'+str(run)+'.p'\n",
    "pkpath = os.path.join(srcDir,filename)\n",
    "\n",
    "f=open(pkpath,'rb')\n",
    "raft_name=pickle.load(f)\n",
    "rn=pickle.load(f)\n",
    "ccd_list=pickle.load(f)\n",
    "file_list=pickle.load(f)\n",
    "fw=pickle.load(f)\n",
    "gains=pickle.load(f)\n",
    "#print(fw)\n",
    "f.close()"
   ]
  },
  {
   "cell_type": "code",
   "execution_count": 4,
   "metadata": {},
   "outputs": [
    {
     "data": {
      "text/plain": [
       "[('E2V-CCD250-293', 'S00', 'LCA-13574-070'),\n",
       " ('E2V-CCD250-187', 'S01', 'LCA-13574-070'),\n",
       " ('E2V-CCD250-238', 'S02', 'LCA-13574-070'),\n",
       " ('E2V-CCD250-245', 'S10', 'LCA-13574-072'),\n",
       " ('E2V-CCD250-386', 'S11', 'LCA-13574-072'),\n",
       " ('E2V-CCD250-247', 'S12', 'LCA-13574-072'),\n",
       " ('E2V-CCD250-261', 'S20', 'LCA-13574-073'),\n",
       " ('E2V-CCD250-286', 'S21', 'LCA-13574-073'),\n",
       " ('E2V-CCD250-129', 'S22', 'LCA-13574-073')]"
      ]
     },
     "execution_count": 4,
     "metadata": {},
     "output_type": "execute_result"
    }
   ],
   "source": [
    "ccd_list"
   ]
  },
  {
   "cell_type": "markdown",
   "metadata": {},
   "source": [
    "We have copied E2V-CCD250-386_QE.fits which Steve Ritz sent into ~/notebooks/raftResults2020jan/12002/, and also the current folder (as backup).\n",
    "For readnoise, he sent values in his email on July 7, 2020. he also pointed me to Document-28552 in the same email. The document was for camera KPP, so there is readnoise but not gain and saturation."
   ]
  },
  {
   "cell_type": "code",
   "execution_count": 5,
   "metadata": {},
   "outputs": [
    {
     "data": {
      "text/plain": [
       "[4.897937774658203,\n",
       " 4.779745472,\n",
       " 4.665771513,\n",
       " 4.627248873,\n",
       " 4.598694467,\n",
       " 4.635306297,\n",
       " 4.618241341,\n",
       " 5.106999397277832,\n",
       " 5.088564395904541,\n",
       " 4.505067645,\n",
       " 4.477770989,\n",
       " 5.061830997467041,\n",
       " 5.266568660736084,\n",
       " 4.508758105,\n",
       " 4.500315276,\n",
       " 4.478564748]"
      ]
     },
     "execution_count": 5,
     "metadata": {},
     "output_type": "execute_result"
    }
   ],
   "source": [
    "rn['E2V-CCD250-386']"
   ]
  },
  {
   "cell_type": "code",
   "execution_count": 9,
   "metadata": {},
   "outputs": [],
   "source": [
    "rn['E2V-CCD250-386'][1] = 4.779745472 #C11\n",
    "rn['E2V-CCD250-386'][2] = 4.665771513 #C12\n",
    "rn['E2V-CCD250-386'][3] = 4.627248873 #C13\n",
    "rn['E2V-CCD250-386'][4] = 4.598694467 #C14\n",
    "rn['E2V-CCD250-386'][5] = 4.635306297 #C15\n",
    "rn['E2V-CCD250-386'][6] = 4.618241341 #C16\n",
    "rn['E2V-CCD250-386'][9] = 4.505067645 #C06\n",
    "rn['E2V-CCD250-386'][10] = 4.477770989 #C05\n",
    "rn['E2V-CCD250-386'][13] = 4.508758105 #C02\n",
    "rn['E2V-CCD250-386'][14] = 4.500315276 #C01\n",
    "rn['E2V-CCD250-386'][15] = 4.478564748 #C00"
   ]
  },
  {
   "cell_type": "code",
   "execution_count": 18,
   "metadata": {},
   "outputs": [],
   "source": [
    "#with open(filename, \"wb\") as f:\n",
    "with open(pkpath, \"wb\") as f:\n",
    "    pickle.dump(raft_name, f)\n",
    "    pickle.dump(rn, f)\n",
    "    pickle.dump(ccd_list, f)\n",
    "    pickle.dump(file_list, f)\n",
    "    pickle.dump(fw, f)\n",
    "    pickle.dump(gains, f)"
   ]
  },
  {
   "cell_type": "code",
   "execution_count": null,
   "metadata": {},
   "outputs": [],
   "source": []
  }
 ],
 "metadata": {
  "kernelspec": {
   "display_name": "LSST",
   "language": "python",
   "name": "lsst"
  },
  "language_info": {
   "codemirror_mode": {
    "name": "ipython",
    "version": 3
   },
   "file_extension": ".py",
   "mimetype": "text/x-python",
   "name": "python",
   "nbconvert_exporter": "python",
   "pygments_lexer": "ipython3",
   "version": "3.7.6"
  }
 },
 "nbformat": 4,
 "nbformat_minor": 4
}
