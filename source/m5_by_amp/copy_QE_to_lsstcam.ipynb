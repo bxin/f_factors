{
 "cells": [
  {
   "cell_type": "markdown",
   "metadata": {},
   "source": [
    "### Based on instructions at https://jira.lsstcorp.org/browse/DM-22824\n",
    "### copy QE curves for ts8 camera to lsstcam"
   ]
  },
  {
   "cell_type": "code",
   "execution_count": 1,
   "metadata": {},
   "outputs": [],
   "source": [
    "import os\n",
    "import shutil\n",
    "import glob\n",
    "import pandas as pd\n",
    "from lsst.obs.lsst import LsstCamMapper"
   ]
  },
  {
   "cell_type": "code",
   "execution_count": 2,
   "metadata": {},
   "outputs": [],
   "source": [
    "rname = 'R22'"
   ]
  },
  {
   "cell_type": "code",
   "execution_count": 3,
   "metadata": {},
   "outputs": [],
   "source": [
    "dlist = ['S00', 'S01', 'S02', 'S10', 'S11', 'S12', 'S20', 'S21', 'S22']"
   ]
  },
  {
   "cell_type": "markdown",
   "metadata": {},
   "source": [
    "#### Make directories for the curves to go into:"
   ]
  },
  {
   "cell_type": "code",
   "execution_count": 4,
   "metadata": {},
   "outputs": [
    {
     "name": "stdout",
     "output_type": "stream",
     "text": [
      " /home/bxin/lsst_stack/obs_lsst_data/lsstcam/qe_curves/r22_s00 exists\n",
      " /home/bxin/lsst_stack/obs_lsst_data/lsstcam/qe_curves/r22_s01 exists\n",
      " /home/bxin/lsst_stack/obs_lsst_data/lsstcam/qe_curves/r22_s02 exists\n",
      " /home/bxin/lsst_stack/obs_lsst_data/lsstcam/qe_curves/r22_s10 exists\n",
      " /home/bxin/lsst_stack/obs_lsst_data/lsstcam/qe_curves/r22_s11 exists\n",
      " /home/bxin/lsst_stack/obs_lsst_data/lsstcam/qe_curves/r22_s12 exists\n",
      " /home/bxin/lsst_stack/obs_lsst_data/lsstcam/qe_curves/r22_s20 exists\n",
      " /home/bxin/lsst_stack/obs_lsst_data/lsstcam/qe_curves/r22_s21 exists\n",
      " /home/bxin/lsst_stack/obs_lsst_data/lsstcam/qe_curves/r22_s22 exists\n"
     ]
    }
   ],
   "source": [
    "for i in range(len(dlist)):\n",
    "    my_folder = f\"{os.environ['OBS_LSST_DATA_DIR']}/lsstcam/qe_curves/{rname.lower()}_{dlist[i].lower()}\"\n",
    "    if not os.path.exists(my_folder):\n",
    "        print('creating %s'%my_folder)\n",
    "        os.makedirs(my_folder)\n",
    "    else:\n",
    "        print(' %s exists'%my_folder)"
   ]
  },
  {
   "cell_type": "markdown",
   "metadata": {},
   "source": [
    "#### We need to copy the appropriate files from ts8 to the corresponding spot in the lsstcam area, then modify the metadata.\n",
    "#### We combine these two steps into one."
   ]
  },
  {
   "cell_type": "code",
   "execution_count": 5,
   "metadata": {},
   "outputs": [
    {
     "name": "stdout",
     "output_type": "stream",
     "text": [
      "R22 RTM-024 e2v\n"
     ]
    }
   ],
   "source": [
    "# mapping based on \n",
    "#https://confluence.slac.stanford.edu/pages/viewpage.action?spaceKey=LSSTCAM&title=Raft+Delivery+and+Acceptance+Testing+Status\n",
    "dd = pd.read_csv('raftInstall.csv',index_col=0)\n",
    "rtmname = dd.rtm.loc[rname]\n",
    "vendor = dd.vendor[rname]\n",
    "print(rname, rtmname,vendor)"
   ]
  },
  {
   "cell_type": "code",
   "execution_count": 19,
   "metadata": {},
   "outputs": [],
   "source": [
    "# we need to know the sensor index from the name of the sensor\n",
    "mapper = LsstCamMapper()\n",
    "cam = mapper.camera"
   ]
  },
  {
   "cell_type": "code",
   "execution_count": 27,
   "metadata": {},
   "outputs": [],
   "source": [
    "for i in range(len(dlist)):\n",
    "    srcDir = f\"{os.environ['OBS_LSST_DATA_DIR']}/ts8/qe_curves/{rtmname.lower()}_{dlist[i].lower()}\"\n",
    "    destDir = f\"{os.environ['OBS_LSST_DATA_DIR']}/lsstcam/qe_curves/{rname.lower()}_{dlist[i].lower()}\"\n",
    "    srcList = glob.glob('%s/*'%srcDir)\n",
    "    assert len(srcList) == 1\n",
    "    srcName = srcList[0]\n",
    "    destName = os.path.join(destDir, os.path.split(srcName)[-1])\n",
    "    rid = open(srcName, 'r')\n",
    "    wid = open(destName, 'w')\n",
    "    detectorId = cam[f'{rname}_{dlist[i]}'].getId()\n",
    "    for line in rid:\n",
    "        if 'TS8' in line:\n",
    "            wid.write('# - {INSTRUME: LSSTCAM}\\n')\n",
    "        elif 'DETECTOR' in line:\n",
    "            wid.write('# - {DETECTOR: %d}\\n'%detectorId)\n",
    "        elif 'CALIB_ID' in line:\n",
    "            oldRaftName = line.split(' ')[3][1:]\n",
    "            oldDector = line.split(' ')[5]\n",
    "            oldCcd = line.split(' ')[7]\n",
    "            oldCcdnum = line.split(' ')[8]\n",
    "            line = line.replace(oldRaftName, 'raftName=%s'%rname)\n",
    "            line = line.replace(oldDector, 'detector=%d'%detectorId)\n",
    "            line = line.replace(oldCcd, 'ccd=%d'%detectorId)\n",
    "            line = line.replace(oldCcdnum, 'ccdnum=%d'%detectorId)\n",
    "            wid.write(line)\n",
    "        else:\n",
    "            wid.write(line)\n",
    "    rid.close()\n",
    "    wid.close()"
   ]
  },
  {
   "cell_type": "code",
   "execution_count": null,
   "metadata": {},
   "outputs": [],
   "source": []
  }
 ],
 "metadata": {
  "kernelspec": {
   "display_name": "LSST",
   "language": "python",
   "name": "lsst"
  },
  "language_info": {
   "codemirror_mode": {
    "name": "ipython",
    "version": 3
   },
   "file_extension": ".py",
   "mimetype": "text/x-python",
   "name": "python",
   "nbconvert_exporter": "python",
   "pygments_lexer": "ipython3",
   "version": "3.7.2"
  }
 },
 "nbformat": 4,
 "nbformat_minor": 4
}
